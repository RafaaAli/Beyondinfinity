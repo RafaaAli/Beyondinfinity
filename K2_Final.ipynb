{
  "nbformat": 4,
  "nbformat_minor": 0,
  "metadata": {
    "colab": {
      "provenance": [],
      "authorship_tag": "ABX9TyN1ci0u0i9arABbS9n8RS8o",
      "include_colab_link": true
    },
    "kernelspec": {
      "name": "python3",
      "display_name": "Python 3"
    },
    "language_info": {
      "name": "python"
    }
  },
  "cells": [
    {
      "cell_type": "markdown",
      "metadata": {
        "id": "view-in-github",
        "colab_type": "text"
      },
      "source": [
        "<a href=\"https://colab.research.google.com/github/RafaaAli/Beyondinfinity/blob/main/K2_Final.ipynb\" target=\"_parent\"><img src=\"https://colab.research.google.com/assets/colab-badge.svg\" alt=\"Open In Colab\"/></a>"
      ]
    },
    {
      "cell_type": "code",
      "execution_count": null,
      "metadata": {
        "colab": {
          "base_uri": "https://localhost:8080/"
        },
        "id": "YpuJOOlf9wXD",
        "outputId": "4d2b9823-771f-4827-ca9f-dc655e482f01"
      },
      "outputs": [
        {
          "output_type": "stream",
          "name": "stdout",
          "text": [
            "Requirement already satisfied: pandas in /usr/local/lib/python3.12/dist-packages (2.2.2)\n",
            "Requirement already satisfied: numpy in /usr/local/lib/python3.12/dist-packages (2.0.2)\n",
            "Requirement already satisfied: scikit-learn in /usr/local/lib/python3.12/dist-packages (1.6.1)\n",
            "Requirement already satisfied: xgboost in /usr/local/lib/python3.12/dist-packages (3.0.5)\n",
            "Requirement already satisfied: lightgbm in /usr/local/lib/python3.12/dist-packages (4.6.0)\n",
            "Requirement already satisfied: imbalanced-learn in /usr/local/lib/python3.12/dist-packages (0.14.0)\n",
            "Requirement already satisfied: matplotlib in /usr/local/lib/python3.12/dist-packages (3.10.0)\n",
            "Requirement already satisfied: seaborn in /usr/local/lib/python3.12/dist-packages (0.13.2)\n",
            "Requirement already satisfied: requests in /usr/local/lib/python3.12/dist-packages (2.32.4)\n",
            "Requirement already satisfied: python-dateutil>=2.8.2 in /usr/local/lib/python3.12/dist-packages (from pandas) (2.9.0.post0)\n",
            "Requirement already satisfied: pytz>=2020.1 in /usr/local/lib/python3.12/dist-packages (from pandas) (2025.2)\n",
            "Requirement already satisfied: tzdata>=2022.7 in /usr/local/lib/python3.12/dist-packages (from pandas) (2025.2)\n",
            "Requirement already satisfied: scipy>=1.6.0 in /usr/local/lib/python3.12/dist-packages (from scikit-learn) (1.16.2)\n",
            "Requirement already satisfied: joblib>=1.2.0 in /usr/local/lib/python3.12/dist-packages (from scikit-learn) (1.5.2)\n",
            "Requirement already satisfied: threadpoolctl>=3.1.0 in /usr/local/lib/python3.12/dist-packages (from scikit-learn) (3.6.0)\n",
            "Requirement already satisfied: nvidia-nccl-cu12 in /usr/local/lib/python3.12/dist-packages (from xgboost) (2.27.3)\n",
            "Requirement already satisfied: contourpy>=1.0.1 in /usr/local/lib/python3.12/dist-packages (from matplotlib) (1.3.3)\n",
            "Requirement already satisfied: cycler>=0.10 in /usr/local/lib/python3.12/dist-packages (from matplotlib) (0.12.1)\n",
            "Requirement already satisfied: fonttools>=4.22.0 in /usr/local/lib/python3.12/dist-packages (from matplotlib) (4.60.1)\n",
            "Requirement already satisfied: kiwisolver>=1.3.1 in /usr/local/lib/python3.12/dist-packages (from matplotlib) (1.4.9)\n",
            "Requirement already satisfied: packaging>=20.0 in /usr/local/lib/python3.12/dist-packages (from matplotlib) (25.0)\n",
            "Requirement already satisfied: pillow>=8 in /usr/local/lib/python3.12/dist-packages (from matplotlib) (11.3.0)\n",
            "Requirement already satisfied: pyparsing>=2.3.1 in /usr/local/lib/python3.12/dist-packages (from matplotlib) (3.2.5)\n",
            "Requirement already satisfied: charset_normalizer<4,>=2 in /usr/local/lib/python3.12/dist-packages (from requests) (3.4.3)\n",
            "Requirement already satisfied: idna<4,>=2.5 in /usr/local/lib/python3.12/dist-packages (from requests) (3.10)\n",
            "Requirement already satisfied: urllib3<3,>=1.21.1 in /usr/local/lib/python3.12/dist-packages (from requests) (2.5.0)\n",
            "Requirement already satisfied: certifi>=2017.4.17 in /usr/local/lib/python3.12/dist-packages (from requests) (2025.8.3)\n",
            "Requirement already satisfied: six>=1.5 in /usr/local/lib/python3.12/dist-packages (from python-dateutil>=2.8.2->pandas) (1.17.0)\n"
          ]
        }
      ],
      "source": [
        "\n",
        "!pip install pandas numpy scikit-learn xgboost lightgbm imbalanced-learn matplotlib seaborn requests"
      ]
    },
    {
      "cell_type": "code",
      "source": [
        "import pandas as pd\n",
        "import numpy as np\n",
        "import matplotlib.pyplot as plt\n",
        "from sklearn.model_selection import train_test_split\n",
        "from sklearn.preprocessing import LabelEncoder, StandardScaler\n",
        "from sklearn.ensemble import RandomForestClassifier\n",
        "from sklearn.metrics import accuracy_score, precision_score, recall_score, f1_score, classification_report\n",
        "from imblearn.over_sampling import SMOTE\n",
        "import xgboost as xgb\n",
        "import lightgbm as lgb\n",
        "import joblib"
      ],
      "metadata": {
        "id": "s56vFSTk96GK"
      },
      "execution_count": null,
      "outputs": []
    },
    {
      "cell_type": "code",
      "source": [
        "# uploding  K2 cumulative dataset from NASA Exoplanet Archive\n",
        "df = pd.read_csv('/content/k2pandc_2025.10.03_23.01.39.csv', comment='#', on_bad_lines='skip')"
      ],
      "metadata": {
        "id": "uEh4psQNB0zx"
      },
      "execution_count": null,
      "outputs": []
    },
    {
      "cell_type": "code",
      "source": [
        "\n",
        "print(\"=\" * 80)\n",
        "print(f\"Dataset shape: {df.shape}\")\n",
        "print(f\"Columns: {df.shape[1]}, Rows: {df.shape[0]}\")\n",
        "print(\"=\" * 80)"
      ],
      "metadata": {
        "colab": {
          "base_uri": "https://localhost:8080/"
        },
        "collapsed": true,
        "id": "buLLbylQDEql",
        "outputId": "63acbc79-5432-43d0-8e1e-cead81a3a8af"
      },
      "execution_count": null,
      "outputs": [
        {
          "output_type": "stream",
          "name": "stdout",
          "text": [
            "================================================================================\n",
            "Dataset shape: (4758, 129)\n",
            "Columns: 129, Rows: 4758\n",
            "================================================================================\n"
          ]
        }
      ]
    },
    {
      "cell_type": "code",
      "source": [
        "# Find target column\n",
        "possible_targets = ['k2_disposition', 'disposition', 'k2c_disp', 'k2_disp',\n",
        "                    'koi_disposition', 'pl_disposition']\n",
        "target_col = next((col for col in possible_targets if col in df.columns), None)\n",
        "\n",
        "if not target_col:\n",
        "    raise ValueError(f\"Target column not found. Available columns: {df.columns.tolist()}\")\n",
        "\n",
        "print(f\"\\nTarget: {target_col}\")\n",
        "print(df[target_col].value_counts())\n",
        "\n",
        "df = df[df[target_col] != 'REFUTED']\n",
        "print(f\"\\nAfter dropping REFUTED:\")\n",
        "print(df[target_col].value_counts())\n",
        "\n",
        "# Define feature groups\n",
        "feature_groups = {\n",
        "    'transit': ['k2_period', 'k2_duration', 'k2_depth', 'k2_rprs'],\n",
        "    'orbital': ['k2_sma', 'k2_incl', 'k2_eccen', 'k2_impact'],\n",
        "    'planetary': ['k2_prad', 'k2_teq', 'k2_insol'],\n",
        "    'stellar': ['k2_srad', 'k2_steff', 'k2_slogg', 'k2_smet', 'k2_kepmag', 'k2_smass'],\n",
        "    'quality': ['k2_sage', 'ra', 'dec']\n",
        "}\n",
        "\n",
        "confirmed_df = df[df[target_col] == 'CONFIRMED'].sample(n=2000, random_state=42)\n",
        "other_df = df[df[target_col] != 'CONFIRMED']\n",
        "\n",
        "# Combine\n",
        "df = pd.concat([confirmed_df, other_df], ignore_index=True)\n",
        "\n",
        "print(f\"\\nAfter downsampling CONFIRMED to 2000:\")\n",
        "print(df[target_col].value_counts())\n",
        "\n",
        "# Exclude non-feature columns\n",
        "exclude_cols = [target_col, 'rowid', 'pl_name', 'hostname', 'epic_name',\n",
        "                'sy_snum', 'sy_pnum', 'disc_year', 'disc_facility']\n",
        "\n",
        "# Select ALL numeric columns as features\n",
        "numeric_cols = df.select_dtypes(include=[np.number]).columns.tolist()\n",
        "available_features = [col for col in numeric_cols if col not in exclude_cols]\n",
        "\n",
        "print(f\"\\n{'=' * 80}\")\n",
        "print(f\"USING {len(available_features)} NUMERIC FEATURES:\")\n",
        "print(f\"{'=' * 80}\")\n",
        "for i, feat in enumerate(available_features, 1):\n",
        "    print(f\"{i:2}. {feat}\")\n",
        "\n",
        "\n"
      ],
      "metadata": {
        "colab": {
          "base_uri": "https://localhost:8080/"
        },
        "id": "TA0VoValDcIj",
        "outputId": "5d2f076b-224f-4f61-9f6d-c53afb9fee6a"
      },
      "execution_count": null,
      "outputs": [
        {
          "output_type": "stream",
          "name": "stdout",
          "text": [
            "\n",
            "Target: disposition\n",
            "disposition\n",
            "CONFIRMED         2000\n",
            "CANDIDATE         1374\n",
            "FALSE POSITIVE     292\n",
            "REFUTED             43\n",
            "Name: count, dtype: int64\n",
            "\n",
            "After dropping REFUTED:\n",
            "disposition\n",
            "CONFIRMED         2000\n",
            "CANDIDATE         1374\n",
            "FALSE POSITIVE     292\n",
            "Name: count, dtype: int64\n",
            "\n",
            "After downsampling CONFIRMED to 2000:\n",
            "disposition\n",
            "CONFIRMED         2000\n",
            "CANDIDATE         1374\n",
            "FALSE POSITIVE     292\n",
            "Name: count, dtype: int64\n",
            "\n",
            "================================================================================\n",
            "USING 88 NUMERIC FEATURES:\n",
            "================================================================================\n",
            " 1. default_flag\n",
            " 2. sy_mnum\n",
            " 3. rv_flag\n",
            " 4. pul_flag\n",
            " 5. ptv_flag\n",
            " 6. tran_flag\n",
            " 7. ast_flag\n",
            " 8. obm_flag\n",
            " 9. micro_flag\n",
            "10. etv_flag\n",
            "11. ima_flag\n",
            "12. dkin_flag\n",
            "13. pl_controv_flag\n",
            "14. pl_orbper\n",
            "15. pl_orbsmax\n",
            "16. pl_rade\n",
            "17. pl_radj\n",
            "18. pl_masse\n",
            "19. pl_massj\n",
            "20. pl_msinie\n",
            "21. pl_bmasse\n",
            "22. pl_bmassj\n",
            "23. pl_dens\n",
            "24. pl_orbeccen\n",
            "25. pl_insol\n",
            "26. pl_eqt\n",
            "27. pl_orbincl\n",
            "28. pl_tranmid\n",
            "29. ttv_flag\n",
            "30. pl_imppar\n",
            "31. pl_trandep\n",
            "32. pl_trandur\n",
            "33. pl_ratdor\n",
            "34. pl_ratror\n",
            "35. pl_occdep\n",
            "36. pl_orbtper\n",
            "37. pl_orblper\n",
            "38. pl_rvamp\n",
            "39. pl_projobliq\n",
            "40. pl_trueobliq\n",
            "41. st_teff\n",
            "42. st_rad\n",
            "43. st_mass\n",
            "44. st_met\n",
            "45. st_lum\n",
            "46. st_logg\n",
            "47. st_age\n",
            "48. st_dens\n",
            "49. st_vsin\n",
            "50. st_rotp\n",
            "51. st_radv\n",
            "52. ra\n",
            "53. dec\n",
            "54. glat\n",
            "55. glon\n",
            "56. elat\n",
            "57. elon\n",
            "58. sy_pm\n",
            "59. sy_pmra\n",
            "60. sy_pmdec\n",
            "61. sy_dist\n",
            "62. sy_plx\n",
            "63. sy_bmag\n",
            "64. sy_vmag\n",
            "65. sy_jmag\n",
            "66. sy_hmag\n",
            "67. sy_kmag\n",
            "68. sy_umag\n",
            "69. sy_gmag\n",
            "70. sy_rmag\n",
            "71. sy_imag\n",
            "72. sy_zmag\n",
            "73. sy_w1mag\n",
            "74. sy_w2mag\n",
            "75. sy_w3mag\n",
            "76. sy_w4mag\n",
            "77. sy_gaiamag\n",
            "78. sy_icmag\n",
            "79. sy_tmag\n",
            "80. sy_kepmag\n",
            "81. pl_nnotes\n",
            "82. k2_campaigns_num\n",
            "83. st_nphot\n",
            "84. st_nrvc\n",
            "85. st_nspec\n",
            "86. pl_nespec\n",
            "87. pl_ntranspec\n",
            "88. pl_ndispec\n"
          ]
        }
      ]
    },
    {
      "cell_type": "code",
      "source": [
        "df_model = df[[target_col] + available_features].copy()\n",
        "\n",
        "# Remove rows with missing target\n",
        "df_model = df_model.dropna(subset=[target_col])\n",
        "\n",
        "# Check missing values\n",
        "missing_pct = (df_model.isnull().sum() / len(df_model)) * 100\n",
        "print(f\"\\nMissing value percentages:\")\n",
        "print(missing_pct[missing_pct > 0].sort_values(ascending=False))\n",
        "\n",
        "# Drop columns with >50% missing values\n",
        "high_missing = missing_pct[missing_pct > 50].index.tolist()\n",
        "if target_col in high_missing:\n",
        "    high_missing.remove(target_col)\n",
        "if high_missing:\n",
        "    df_model = df_model.drop(columns=high_missing)\n",
        "    print(f\"\\nDropped {len(high_missing)} columns with >50% missing values\")\n",
        "\n",
        "# Separate features and target\n",
        "X = df_model.drop(columns=[target_col])\n",
        "y = df_model[target_col]\n",
        "\n",
        "print(f\"\\nFinal feature count: {X.shape[1]}\")\n",
        "print(f\"Final dataset size: {X.shape[0]} rows\")\n",
        "\n",
        "# Impute remaining missing values with median\n",
        "for col in X.columns:\n",
        "    if X[col].isnull().sum() > 0:\n",
        "        X[col].fillna(X[col].median(), inplace=True)\n"
      ],
      "metadata": {
        "colab": {
          "base_uri": "https://localhost:8080/"
        },
        "id": "J-096NJiHtlb",
        "outputId": "e29f09f7-5397-4aab-af9b-c45b08339b60"
      },
      "execution_count": null,
      "outputs": [
        {
          "output_type": "stream",
          "name": "stdout",
          "text": [
            "\n",
            "Missing value percentages:\n",
            "sy_icmag           100.000000\n",
            "pl_occdep           99.972722\n",
            "pl_trueobliq        99.809056\n",
            "pl_orbtper          99.427169\n",
            "pl_projobliq        99.372613\n",
            "                      ...    \n",
            "pul_flag             0.681942\n",
            "pl_controv_flag      0.681942\n",
            "tran_flag            0.681942\n",
            "ast_flag             0.681942\n",
            "obm_flag             0.681942\n",
            "Length: 87, dtype: float64\n",
            "\n",
            "Dropped 31 columns with >50% missing values\n",
            "\n",
            "Final feature count: 57\n",
            "Final dataset size: 3666 rows\n"
          ]
        }
      ]
    },
    {
      "cell_type": "code",
      "source": [
        "# Encode target\n",
        "le = LabelEncoder()\n",
        "y_encoded = le.fit_transform(y)\n",
        "print(f\"\\nTarget classes: {le.classes_}\")"
      ],
      "metadata": {
        "colab": {
          "base_uri": "https://localhost:8080/"
        },
        "id": "aUK_bWC_LWc6",
        "outputId": "95e5c507-4f8e-40d2-c80b-dcb27539af3b"
      },
      "execution_count": null,
      "outputs": [
        {
          "output_type": "stream",
          "name": "stdout",
          "text": [
            "\n",
            "Target classes: ['CANDIDATE' 'CONFIRMED' 'FALSE POSITIVE']\n"
          ]
        }
      ]
    },
    {
      "cell_type": "code",
      "source": [
        "# ============================================================================\n",
        "# 6. TRAIN-TEST SPLIT\n",
        "# ============================================================================\n",
        "X_train, X_test, y_train, y_test = train_test_split(\n",
        "    X, y_encoded, test_size=0.25, random_state=42, stratify=y_encoded\n",
        ")\n",
        "\n",
        "print(f\"\\nTrain size: {X_train.shape[0]}, Test size: {X_test.shape[0]}\")\n"
      ],
      "metadata": {
        "colab": {
          "base_uri": "https://localhost:8080/"
        },
        "id": "l33ILJqeLdnQ",
        "outputId": "d51cd8ef-20c2-43b4-9444-01b45513b01a"
      },
      "execution_count": null,
      "outputs": [
        {
          "output_type": "stream",
          "name": "stdout",
          "text": [
            "\n",
            "Train size: 2749, Test size: 917\n"
          ]
        }
      ]
    },
    {
      "cell_type": "code",
      "source": [
        "# ============================================================================\n",
        "# 7. FEATURE SCALING\n",
        "# ============================================================================\n",
        "scaler = StandardScaler()\n",
        "X_train_scaled = scaler.fit_transform(X_train)\n",
        "X_test_scaled = scaler.transform(X_test)\n",
        "\n",
        "# ============================================================================\n",
        "# 8. HANDLE CLASS IMBALANCE WITH SMOTE\n",
        "# ============================================================================\n",
        "class_counts = np.bincount(y_train)\n",
        "imbalance_ratio = max(class_counts) / min(class_counts)\n"
      ],
      "metadata": {
        "id": "5wKfvpdfMHUG"
      },
      "execution_count": null,
      "outputs": []
    },
    {
      "cell_type": "code",
      "source": [],
      "metadata": {
        "colab": {
          "base_uri": "https://localhost:8080/"
        },
        "id": "JnoDtirVMP4x",
        "outputId": "716d63ae-66fe-4598-e265-bb351bc84cb7"
      },
      "execution_count": null,
      "outputs": [
        {
          "output_type": "execute_result",
          "data": {
            "text/plain": [
              "np.float64(6.8493150684931505)"
            ]
          },
          "metadata": {},
          "execution_count": 25
        }
      ]
    },
    {
      "cell_type": "code",
      "source": [
        "def evaluate_model(name, model, X_test, y_test, y_pred):\n",
        "    \"\"\"Evaluate and print model metrics\"\"\"\n",
        "    print(f\"\\n{'=' * 80}\")\n",
        "    print(f\"{name} PERFORMANCE\")\n",
        "    print(f\"{'=' * 80}\")\n",
        "    print(f\"Accuracy:  {accuracy_score(y_test, y_pred):.4f}\")\n",
        "    print(f\"Precision: {precision_score(y_test, y_pred, average='weighted'):.4f}\")\n",
        "    print(f\"Recall:    {recall_score(y_test, y_pred, average='weighted'):.4f}\")\n",
        "    print(f\"F1-Score:  {f1_score(y_test, y_pred, average='weighted'):.4f}\")\n",
        "    print(f\"\\n{classification_report(y_test, y_pred, target_names=le.classes_)}\")\n"
      ],
      "metadata": {
        "id": "HCG8IG3VMUJw"
      },
      "execution_count": null,
      "outputs": []
    },
    {
      "cell_type": "code",
      "source": [
        "# --- Random Forest ---\n",
        "print(\"\\n[1/3] Training Random Forest...\")\n",
        "rf_model = RandomForestClassifier(\n",
        "    n_estimators=100,\n",
        "    max_depth=20,\n",
        "    min_samples_split=10,\n",
        "    min_samples_leaf=5,\n",
        "    max_features='sqrt',\n",
        "    class_weight='balanced',\n",
        "    oob_score=True,\n",
        "    random_state=42,\n",
        "    n_jobs=-1\n",
        ")\n",
        "rf_model.fit(X_train_scaled, y_train)\n",
        "y_pred_rf = rf_model.predict(X_test_scaled)\n",
        "evaluate_model(\"RANDOM FOREST\", rf_model, X_test_scaled, y_test, y_pred_rf)\n",
        "joblib.dump(rf_model, 'random_forest_model.pkl')\n",
        "print(\"✓ Saved: random_forest_model.pkl\")\n"
      ],
      "metadata": {
        "colab": {
          "base_uri": "https://localhost:8080/"
        },
        "id": "3HkEIXxXMble",
        "outputId": "26bc930e-36bc-42e5-8b9f-404673222110"
      },
      "execution_count": null,
      "outputs": [
        {
          "output_type": "stream",
          "name": "stdout",
          "text": [
            "\n",
            "[1/3] Training Random Forest...\n",
            "\n",
            "================================================================================\n",
            "RANDOM FOREST PERFORMANCE\n",
            "================================================================================\n",
            "Accuracy:  0.9084\n",
            "Precision: 0.9073\n",
            "Recall:    0.9084\n",
            "F1-Score:  0.9077\n",
            "\n",
            "                precision    recall  f1-score   support\n",
            "\n",
            "     CANDIDATE       0.89      0.87      0.88       344\n",
            "     CONFIRMED       0.94      0.96      0.95       500\n",
            "FALSE POSITIVE       0.80      0.75      0.77        73\n",
            "\n",
            "      accuracy                           0.91       917\n",
            "     macro avg       0.87      0.86      0.87       917\n",
            "  weighted avg       0.91      0.91      0.91       917\n",
            "\n",
            "✓ Saved: random_forest_model.pkl\n"
          ]
        }
      ]
    },
    {
      "cell_type": "code",
      "source": [
        "print(\"\\n[2/3] Training XGBoost...\")\n",
        "xgb_model = xgb.XGBClassifier(\n",
        "    n_estimators=100,\n",
        "    max_depth=6,\n",
        "    learning_rate=0.1,\n",
        "    subsample=0.8,\n",
        "    colsample_bytree=0.8,\n",
        "    min_child_weight=3,\n",
        "    gamma=0.1,\n",
        "    reg_alpha=0.1,\n",
        "    reg_lambda=1,\n",
        "    random_state=42,\n",
        "    n_jobs=-1,\n",
        "    eval_metric='mlogloss'\n",
        ")\n",
        "xgb_model.fit(X_train_scaled, y_train)\n",
        "y_pred_xgb = xgb_model.predict(X_test_scaled)\n",
        "evaluate_model(\"XGBOOST\", xgb_model, X_test_scaled, y_test, y_pred_xgb)\n",
        "joblib.dump(xgb_model, 'xgboost_model.pkl')\n",
        "print(\"✓ Saved: xgboost_model.pkl\")\n"
      ],
      "metadata": {
        "colab": {
          "base_uri": "https://localhost:8080/"
        },
        "id": "qSCup7e4MgqQ",
        "outputId": "8fc76727-a8bf-46d2-f711-7cb6659e4fa0"
      },
      "execution_count": null,
      "outputs": [
        {
          "output_type": "stream",
          "name": "stdout",
          "text": [
            "\n",
            "[2/3] Training XGBoost...\n",
            "\n",
            "================================================================================\n",
            "XGBOOST PERFORMANCE\n",
            "================================================================================\n",
            "Accuracy:  0.9248\n",
            "Precision: 0.9250\n",
            "Recall:    0.9248\n",
            "F1-Score:  0.9232\n",
            "\n",
            "                precision    recall  f1-score   support\n",
            "\n",
            "     CANDIDATE       0.92      0.89      0.90       344\n",
            "     CONFIRMED       0.93      0.98      0.95       500\n",
            "FALSE POSITIVE       0.95      0.73      0.82        73\n",
            "\n",
            "      accuracy                           0.92       917\n",
            "     macro avg       0.93      0.86      0.89       917\n",
            "  weighted avg       0.93      0.92      0.92       917\n",
            "\n",
            "✓ Saved: xgboost_model.pkl\n"
          ]
        }
      ]
    },
    {
      "cell_type": "code",
      "source": [
        "# --- LightGBM ---\n",
        "print(\"\\n[3/3] Training LightGBM...\")\n",
        "lgb_model = lgb.LGBMClassifier(\n",
        "    n_estimators=100,\n",
        "    max_depth=6,\n",
        "    learning_rate=0.1,\n",
        "    num_leaves=31,\n",
        "    subsample=0.8,\n",
        "    colsample_bytree=0.8,\n",
        "    min_child_samples=20,\n",
        "    reg_alpha=0.1,\n",
        "    reg_lambda=1,\n",
        "    random_state=42,\n",
        "    n_jobs=-1,\n",
        "    verbose=-1\n",
        ")\n",
        "lgb_model.fit(X_train_scaled, y_train)\n",
        "y_pred_lgb = lgb_model.predict(X_test_scaled)\n",
        "evaluate_model(\"LIGHTGBM\", lgb_model, X_test_scaled, y_test, y_pred_lgb)\n",
        "joblib.dump(lgb_model, 'lightgbm_model.pkl')\n",
        "print(\"✓ Saved: lightgbm_model.pkl\")"
      ],
      "metadata": {
        "colab": {
          "base_uri": "https://localhost:8080/"
        },
        "id": "Ff3UVB_-M2oe",
        "outputId": "b16b9b72-1cac-45b2-dda4-fcaa27d7a76d"
      },
      "execution_count": null,
      "outputs": [
        {
          "output_type": "stream",
          "name": "stdout",
          "text": [
            "\n",
            "[3/3] Training LightGBM...\n",
            "\n",
            "================================================================================\n",
            "LIGHTGBM PERFORMANCE\n",
            "================================================================================\n",
            "Accuracy:  0.9280\n",
            "Precision: 0.9281\n",
            "Recall:    0.9280\n",
            "F1-Score:  0.9266\n",
            "\n",
            "                precision    recall  f1-score   support\n",
            "\n",
            "     CANDIDATE       0.93      0.89      0.91       344\n",
            "     CONFIRMED       0.93      0.98      0.96       500\n",
            "FALSE POSITIVE       0.93      0.74      0.82        73\n",
            "\n",
            "      accuracy                           0.93       917\n",
            "     macro avg       0.93      0.87      0.90       917\n",
            "  weighted avg       0.93      0.93      0.93       917\n",
            "\n",
            "✓ Saved: lightgbm_model.pkl\n"
          ]
        }
      ]
    },
    {
      "cell_type": "code",
      "source": [
        "# ============================================================================\n",
        "# 10. SAVE PREPROCESSING OBJECTS\n",
        "# ============================================================================\n",
        "joblib.dump(scaler, 'scaler.pkl')\n",
        "joblib.dump(le, 'label_encoder.pkl')\n",
        "print(\"\\n Saved: scaler.pkl\")\n",
        "print(\" Saved: label_encoder.pkl\")\n",
        "\n",
        "# Save feature names for future use\n",
        "joblib.dump(X.columns.tolist(), 'feature_names.pkl')\n",
        "print(\" Saved: feature_names.pkl\")\n"
      ],
      "metadata": {
        "colab": {
          "base_uri": "https://localhost:8080/"
        },
        "id": "v28qWkzENHG4",
        "outputId": "f436e009-4f40-4574-9d47-be76e67326b1"
      },
      "execution_count": null,
      "outputs": [
        {
          "output_type": "stream",
          "name": "stdout",
          "text": [
            "\n",
            " Saved: scaler.pkl\n",
            " Saved: label_encoder.pkl\n",
            " Saved: feature_names.pkl\n"
          ]
        }
      ]
    },
    {
      "cell_type": "code",
      "source": [],
      "metadata": {
        "id": "_xsRtWyWNNXg"
      },
      "execution_count": null,
      "outputs": []
    }
  ]
}